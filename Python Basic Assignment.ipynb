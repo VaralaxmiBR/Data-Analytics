{
 "cells": [
  {
   "cell_type": "code",
   "execution_count": null,
   "id": "43a2a4d1",
   "metadata": {},
   "outputs": [],
   "source": [
    "#Q.1 Write a program to check given number is even or odd ? "
   ]
  },
  {
   "cell_type": "code",
   "execution_count": 7,
   "id": "8933e219",
   "metadata": {},
   "outputs": [
    {
     "name": "stdout",
     "output_type": "stream",
     "text": [
      "Check if the given number is even or odd2333445\n",
      "Number is odd\n"
     ]
    }
   ],
   "source": [
    "num=int(input(\"Check if the given number is even or odd\"))\n",
    "if(num%2==0):\n",
    "    print(\"Number is even\")\n",
    "else:\n",
    "    print(\"Number is odd\")"
   ]
  },
  {
   "cell_type": "code",
   "execution_count": 8,
   "id": "6b96f15a",
   "metadata": {},
   "outputs": [],
   "source": [
    "#Q.2  Write a program to check given character is a vowel or consonant ? "
   ]
  },
  {
   "cell_type": "code",
   "execution_count": 17,
   "id": "f0a59475",
   "metadata": {},
   "outputs": [
    {
     "name": "stdout",
     "output_type": "stream",
     "text": [
      "Enter a character: v\n",
      "The character is a consonant\n"
     ]
    }
   ],
   "source": [
    "char = input(\"Enter a character: \")   \n",
    "vowels = ['a', 'e', 'i', 'o', 'u', 'A', 'E', 'I', 'O', 'U']   \n",
    "if char in vowels:  \n",
    "    print(\"The character is a vowel\")  \n",
    "else:  \n",
    "    print(\"The character is a consonant\")"
   ]
  },
  {
   "cell_type": "code",
   "execution_count": 18,
   "id": "51804f63",
   "metadata": {},
   "outputs": [],
   "source": [
    "#Q.3 Write a program to count vowels and consonants in the string ?"
   ]
  },
  {
   "cell_type": "code",
   "execution_count": 22,
   "id": "146f7b8c",
   "metadata": {},
   "outputs": [
    {
     "name": "stdout",
     "output_type": "stream",
     "text": [
      "No. of vowels : 5\n"
     ]
    }
   ],
   "source": [
    "str = \"GeeksforGeeks\"\n",
    "def vowel_count(str):\n",
    "    count = 0\n",
    "    vowel = set(\"aeiouAEIOU\")\n",
    "    for alphabet in str:\n",
    "        if alphabet in vowel:\n",
    "            count = count + 1\n",
    "    print(\"No. of vowels :\", count)\n",
    "vowel_count(str)"
   ]
  },
  {
   "cell_type": "code",
   "execution_count": 25,
   "id": "342b6824",
   "metadata": {},
   "outputs": [
    {
     "name": "stdout",
     "output_type": "stream",
     "text": [
      "No. of consonants : 8\n"
     ]
    }
   ],
   "source": [
    "str = \"GeeksforGeeks\"\n",
    "def consonant_count(str):\n",
    "    count = 0\n",
    "    consonant = set(\"bcdfghjklmnpqrstvwxyzBCDFGHJKLMNPQRSTVWXYZ\")\n",
    "    for alphabet in str:\n",
    "        if alphabet in consonant:\n",
    "            count = count + 1\n",
    "    print(\"No. of consonants :\", count)\n",
    "consonant_count(str)"
   ]
  },
  {
   "cell_type": "code",
   "execution_count": 26,
   "id": "20f0b583",
   "metadata": {},
   "outputs": [],
   "source": [
    "#Q.4 Write a program to remove spaces from string without inbuilt function ? "
   ]
  },
  {
   "cell_type": "code",
   "execution_count": 28,
   "id": "b5911bda",
   "metadata": {},
   "outputs": [
    {
     "name": "stdout",
     "output_type": "stream",
     "text": [
      "PythonPopularProgramminglanguage\n"
     ]
    }
   ],
   "source": [
    "string=\"Python Popular Programming language\"\n",
    "def remove(string):\n",
    "    return string.replace(\" \",\"\")   using replace function \n",
    "print(remove (string))\n"
   ]
  },
  {
   "cell_type": "code",
   "execution_count": null,
   "id": "e338e1d7",
   "metadata": {},
   "outputs": [],
   "source": []
  }
 ],
 "metadata": {
  "kernelspec": {
   "display_name": "Python 3 (ipykernel)",
   "language": "python",
   "name": "python3"
  },
  "language_info": {
   "codemirror_mode": {
    "name": "ipython",
    "version": 3
   },
   "file_extension": ".py",
   "mimetype": "text/x-python",
   "name": "python",
   "nbconvert_exporter": "python",
   "pygments_lexer": "ipython3",
   "version": "3.11.5"
  }
 },
 "nbformat": 4,
 "nbformat_minor": 5
}
